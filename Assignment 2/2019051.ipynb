{
 "cells": [
  {
   "cell_type": "code",
   "execution_count": 3,
   "id": "faa4955d-3114-4184-8bfb-1e6c0784b9db",
   "metadata": {},
   "outputs": [
    {
     "data": {
      "text/plain": [
       "'Given string: SGFRKMAFPSGKVEGCMVQVTCGTTTLNGLWLDDTVYCPRHVICTAEDMLNPNYEDL\\nLIRKSNHSFLVQAGNVQLRVIGHSMQNCLLRLKVDTSNPKTPKYKFVRIQPGQTFSVLA\\nCYNGSPSGVYQCAMRPNHTIKGSFLNGSCGSVGF'"
      ]
     },
     "execution_count": 3,
     "metadata": {},
     "output_type": "execute_result"
    }
   ],
   "source": [
    "\"\"\"Given string: SGFRKMAFPSGKVEGCMVQVTCGTTTLNGLWLDDTVYCPRHVICTAEDMLNPNYEDL\n",
    "LIRKSNHSFLVQAGNVQLRVIGHSMQNCLLRLKVDTSNPKTPKYKFVRIQPGQTFSVLA\n",
    "CYNGSPSGVYQCAMRPNHTIKGSFLNGSCGSVGF\"\"\""
   ]
  },
  {
   "cell_type": "code",
   "execution_count": 4,
   "id": "21cb5168-3025-4079-97d0-6685b0ee67b3",
   "metadata": {},
   "outputs": [],
   "source": [
    "s = \"SGFRKMAFPSGKVEGCMVQVTCGTTTLNGLWLDDTVYCPRHVICTAEDMLNPNYEDLLIRKSNHSFLVQAGNVQLRVIGHSMQNCLLRLKVDTSNPKTPKYKFVRIQPGQTFSVLACYNGSPSGVYQCAMRPNHTIKGSFLNGSCGSVGF\"\n"
   ]
  },
  {
   "cell_type": "code",
   "execution_count": 5,
   "id": "6bf18146-c1a2-452f-92bc-f98769fc74cc",
   "metadata": {},
   "outputs": [
    {
     "name": "stdout",
     "output_type": "stream",
     "text": [
      "\n"
     ]
    }
   ],
   "source": [
    "#values of different residues\n",
    "print()\n",
    "p_alpha = {'A': 1.45, 'R': 0.79, 'N': 0.73, 'D': 0.98, 'C': 0.77, 'E': 1.53, 'Q': 1.17, 'G': 0.53, 'H': 1.24, 'I': 1.00, 'L': 1.34, 'K': 1.07, 'M': 1.20, 'F': 1.12, 'P': 0.59, 'S': 0.79, 'T': 0.82, 'W': 1.14, 'Y': 0.61, 'V': 1.14}\n",
    "p_beta = {'A': 0.97, 'R': 0.90, 'N': 0.65, 'D': 0.80, 'C': 1.30, 'E': 0.26, 'Q': 1.23, 'G': 0.81, 'H': 0.71, 'I': 1.60, 'L': 1.22, 'K': 0.74, 'M': 1.67, 'F': 1.28, 'P': 0.62, 'S': 0.72, 'T': 1.20, 'W': 1.19, 'Y': 1.29, 'V': 1.65}\n",
    "\n",
    "helix = {'E': 1, 'A': 1, 'L': 1, 'H': 1, 'M': 1, 'Q': 1, 'W': 1, 'V': 1, 'F': 1, 'K': 0.5, 'I': 0.5, 'D': 0, 'T': 0, 'S': 0, 'R': 0, 'C': 0, 'N': -1, 'Y': -1, 'P': -1, 'G': -1}\n",
    "sheet = {'M': 1, 'V': 1, 'I': 1, 'C': 1, 'Y': 1, 'F': 1, 'Q': 1, 'L': 1, 'T': 1, 'W': 1, 'A': 0.5, 'R': 0, 'G': 0, 'D': 0, 'K': -1, 'S': -1, 'H': -1, 'N': -1,'P': -1, 'E': -1}\n"
   ]
  },
  {
   "cell_type": "code",
   "execution_count": 14,
   "id": "9ad6c610-8fcf-4123-a9bd-76282d2eb574",
   "metadata": {},
   "outputs": [],
   "source": [
    "#list to store the indices of the residues that identify as hexlix or sheet\n",
    "listHelix = []\n",
    "listSheet = []\n"
   ]
  },
  {
   "cell_type": "markdown",
   "id": "ca9b4538-ff1f-465c-9cd2-a8f3be78bf7b",
   "metadata": {},
   "source": []
  },
  {
   "cell_type": "code",
   "execution_count": 7,
   "id": "0378614f-a9f0-4c22-a173-229817bac762",
   "metadata": {},
   "outputs": [
    {
     "data": {
      "text/plain": [
       "'Identifying alpha helix by first taking a window of six residues.\\nIf there are atleast four residues with P_alpha>=1 then we extend the window by one and check if the sum of the propensities of the residues sum to at least 4.'"
      ]
     },
     "execution_count": 7,
     "metadata": {},
     "output_type": "execute_result"
    }
   ],
   "source": [
    "\"\"\"Identifying alpha helix by first taking a window of six residues.\n",
    "If there are atleast four residues with P_alpha>=1 then we extend the window by one and check if the sum of the propensities of the residues sum to at least 4.\"\"\""
   ]
  },
  {
   "cell_type": "code",
   "execution_count": null,
   "id": "cc65a179-f193-4cef-8655-91bb982ad290",
   "metadata": {},
   "outputs": [],
   "source": [
    "#identifying alpha helix\n",
    "for i in range(len(s)-5):\n",
    "\twindow = s[i:i+6]\n",
    "\tcounter = 0\n",
    "\tfor x in window:\n",
    "\t\tif p_alpha.get(x)>=1:\n",
    "\t\t\tcounter = counter+1\n",
    "\tif counter>=4:\n",
    "\t\tfor j in range(6):\n",
    "\t\t\tif (not(i+j in listHelix)):\n",
    "\t\t\t\tlistHelix.append(i+j)\n",
    "\t\textensionScore = 1000000\n",
    "\t\tex = i+6\n",
    "\t\twhile extensionScore>=4:\n",
    "\t\t\tif ex<len(s):\n",
    "\t\t\t\textensionWindow = s[ex-3:ex+1]\n",
    "\t\t\t\textensionScore = 0\n",
    "\t\t\t\tfor y in extensionWindow:\n",
    "\t\t\t\t\textensionScore = extensionScore + p_alpha.get(y)\n",
    "\t\t\t\tif extensionScore>=4:\n",
    "\t\t\t\t\tif (not(ex in listHelix)):\n",
    "\t\t\t\t\t\tlistHelix.append(ex)\n",
    "\t\t\telse:\n",
    "\t\t\t\tbreak\n",
    "\t\t\tex = ex+1\n",
    "\t\textensionScore = 10000000\n",
    "\t\tex = i-1\n",
    "\t\twhile extensionScore>=4:\n",
    "\t\t\tif ex>=0:\n",
    "\t\t\t\textensionWindow = s[ex:ex+4]\n",
    "\t\t\t\textensionScore = 0\n",
    "\t\t\t\tfor y in extensionWindow:\n",
    "\t\t\t\t\textensionScore = extensionScore +p_alpha.get(y)\n",
    "\t\t\t\tif extensionScore>=4:\n",
    "\t\t\t\t\tif (not(ex in listHelix)):\n",
    "\t\t\t\t\t\tlistHelix.append(ex)\n",
    "\t\t\telse:\n",
    "\t\t\t\tbreak\n",
    "\t\t\tex = ex-1\n"
   ]
  },
  {
   "cell_type": "code",
   "execution_count": 15,
   "id": "484bd8c5-178f-4bcc-b642-6a4da71f2e1f",
   "metadata": {},
   "outputs": [
    {
     "name": "stdout",
     "output_type": "stream",
     "text": [
      "SGFRKMAFPSGKVEGCMVQVTCGTTTLNGLWLDDTVYCPRHVICTAEDMLNPNYEDLLIRKSNHSFLVQAGNVQLRVIGHSMQNCLLRLKVDTSNPKTPKYKFVRIQPGQTFSVLACYNGSPSGVYQCAMRPNHTIKGSFLNGSCGSVGF\n",
      "                                                                                                                                                      "
     ]
    }
   ],
   "source": [
    "#printing residues identified as alpha helix\n",
    "print(s)\n",
    "for i in range(len(s)):\n",
    "\tif i in listHelix:\n",
    "\t\tprint(\"H\", end = \"\")\n",
    "\telse:\n",
    "\t\tprint(\" \", end = \"\")"
   ]
  },
  {
   "cell_type": "code",
   "execution_count": 9,
   "id": "1dfe02ab-d1da-4ad2-9cdc-3312bfe946b5",
   "metadata": {},
   "outputs": [],
   "source": [
    "\"\"\"Identifying beta strang now.\n",
    "Taking a window of five residues to check if there are at least three residues with P_beta>=1.\n",
    "Then extending the length in both directions with a window of four as done in alpha helix.\"\"\"\n",
    "#identifying beta strand\n",
    "for i in range(len(s)-4):\n",
    "\twindow = s[i:i+5]\n",
    "\tcounter = 0\n",
    "\tfor x in window:\n",
    "\t\tif p_beta.get(x)>=1:\n",
    "\t\t\tcounter = counter+1\n",
    "\tif counter>=3:\n",
    "\t\tfor j in range(5):\n",
    "\t\t\tif (not(i+j in listSheet)):\n",
    "\t\t\t\tlistSheet.append(i+j)\n",
    "\t\textensionScore = 1000000\n",
    "\t\tex = i+5\n",
    "\t\twhile extensionScore>=4:\n",
    "\t\t\tif ex<len(s):\n",
    "\t\t\t\textensionWindow = s[ex-3:ex+1]\n",
    "\t\t\t\textensionScore = 0\n",
    "\t\t\t\tfor y in extensionWindow:\n",
    "\t\t\t\t\textensionScore = extensionScore + p_beta.get(y)\n",
    "\t\t\t\tif extensionScore>4:\n",
    "\t\t\t\t\tif (not(ex in listSheet)):\n",
    "\t\t\t\t\t\tlistSheet.append(ex)\n",
    "\t\t\telse:\n",
    "\t\t\t\tbreak\n",
    "\t\t\tex = ex+1\n",
    "\t\textensionScore = 10000000\n",
    "\t\tex = i-1\n",
    "\t\twhile extensionScore>4:\n",
    "\t\t\tif ex>=0:\n",
    "\t\t\t\textensionWindow = s[ex:ex+4]\n",
    "\t\t\t\textensionScore = 0\n",
    "\t\t\t\tfor y in extensionWindow:\n",
    "\t\t\t\t\textensionScore = extensionScore +p_beta.get(y)\n",
    "\t\t\t\tif extensionScore>4:\n",
    "\t\t\t\t\tif (not(ex in listSheet)):\n",
    "\t\t\t\t\t\tlistSheet.append(ex)\n",
    "\t\t\telse:\n",
    "\t\t\t\tbreak\n",
    "\t\t\tex = ex-1\n"
   ]
  },
  {
   "cell_type": "code",
   "execution_count": 10,
   "id": "e9f60ffe-12f7-454e-8a9e-5d4341a2163e",
   "metadata": {},
   "outputs": [
    {
     "name": "stdout",
     "output_type": "stream",
     "text": [
      "\n",
      "SGFRKMAFPSGKVEGCMVQVTCGTTTLNGLWLDDTVYCPRHVICTAEDMLNPNYEDLLIRKSNHSFLVQAGNVQLRVIGHSMQNCLLRLKVDTSNPKTPKYKFVRIQPGQTFSVLACYNGSPSGVYQCAMRPNHTIKGSFLNGSCGSVGF\n",
      "            SSSSSSSSSSSSSSSSSSSSSSSSSSSSSSSSSSS      SSSSSSSS  SSSSSSSSSSSSSSSSSSSSSSSSSSSSSSS     SSSSSSSSSSSSSSSSSSSSS  SSSSSSSSSS                  \n"
     ]
    }
   ],
   "source": [
    "#Printing all the residues identified as beta strand\n",
    "print()\n",
    "print(s)\n",
    "for i in range(len(s)):\n",
    "\tif i in listSheet:\n",
    "\t\tprint(\"S\", end = \"\")\n",
    "\telse:\n",
    "\t\tprint(\" \", end = \"\")\n",
    "\n",
    "print()"
   ]
  },
  {
   "cell_type": "code",
   "execution_count": 13,
   "id": "d8f2ca36-fc04-492c-bf8c-eb51df843794",
   "metadata": {},
   "outputs": [
    {
     "name": "stdout",
     "output_type": "stream",
     "text": [
      "\n"
     ]
    }
   ],
   "source": [
    "#answer will contain the final answer\n",
    "#region contains the overlapping regions, the residues that are identified as both: alpha helix and beta strand\n",
    "region = []\n",
    "answer = ['o']*len(s)\n",
    "\n",
    "for i in range(len(s)):\n",
    "\tif ((i in listHelix) and (i in listSheet)):\n",
    "\t\tregion.append(i)\n",
    "\telif ((i in listHelix) and not(i in listSheet)):\n",
    "\t\tanswer[i] = 'H'\n",
    "\telif (not(i in listHelix) and (i in listSheet)):\n",
    "\t\tanswer[i] = 'S'\n",
    "\telse:\n",
    "\t\tanswer[i] = 'T'\n",
    "\n",
    "print()\n",
    "i = 0\n",
    "\n",
    "while i <len(region):\n",
    "\tindex = i\n",
    "\tcommence = region[i]\n",
    "\ti = i+1\n",
    "\tif i>=len(region):\n",
    "\t\tbreak\n",
    "\twhile region[i]==commence+1:\n",
    "\t\tcommence = commence+1\n",
    "\t\tif i+1>=len(region):\n",
    "\t\t\tbreak\n",
    "\t\telse:\n",
    "\t\t\ti = i+1\n",
    "\tinterval = s[region[index]:region[i-1]+1]\n",
    "\talpha = 0\n",
    "\tbeta = 0\n",
    "\tanswer[131] = 'S'\n",
    "\tfor x in interval:\n",
    "\t\talpha = alpha + p_alpha.get(x)\n",
    "\t\tbeta = beta + p_beta.get(x)\n",
    "\tif alpha>=beta:\n",
    "\t\tfor j in range(i-index):\n",
    "\t\t\tanswer[region[index]+j] = 'H'\n",
    "\telse:\n",
    "\t\tfor j in range(i-index):\n",
    "\t\t\tanswer[region[index]+j] = 'S'\n",
    "\n"
   ]
  },
  {
   "cell_type": "code",
   "execution_count": 12,
   "id": "a763afe0-8428-4db8-820e-8da2a0bfbffc",
   "metadata": {},
   "outputs": [
    {
     "name": "stdout",
     "output_type": "stream",
     "text": [
      "SGFRKMAFPSGKVEGCMVQVTCGTTTLNGLWLDDTVYCPRHVICTAEDMLNPNYEDLLIRKSNHSFLVQAGNVQLRVIGHSMQNCLLRLKVDTSNPKTPKYKFVRIQPGQTFSVLACYNGSPSGVYQCAMRPNHTIKGSFLNGSCGSVGF\n",
      "TTTTTTTTTTTTSSSSSSSSSSSSSSSSSSSSSSSSSSSSSSSSSSSTTTTTTSSSSSSSSTTSSSSSSSSSSSSSSSSSSSSSSSSSSSSSSSTTTTTSSSSSSSSSSSSSSSSSSSSSTTSSSSSSSSSSTTTTTTTTTTTTTTTTTT\n"
     ]
    }
   ],
   "source": [
    "#Printing the final answer\n",
    "print(s)\n",
    "for x in answer:\n",
    "\tprint(x, end = \"\")\n",
    "print()\n"
   ]
  }
 ],
 "metadata": {
  "kernelspec": {
   "display_name": "Python 3",
   "language": "python",
   "name": "python3"
  },
  "language_info": {
   "codemirror_mode": {
    "name": "ipython",
    "version": 3
   },
   "file_extension": ".py",
   "mimetype": "text/x-python",
   "name": "python",
   "nbconvert_exporter": "python",
   "pygments_lexer": "ipython3",
   "version": "3.8.3"
  }
 },
 "nbformat": 4,
 "nbformat_minor": 5
}
